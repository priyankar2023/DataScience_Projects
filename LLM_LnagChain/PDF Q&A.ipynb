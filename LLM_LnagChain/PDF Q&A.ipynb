{
 "cells": [
  {
   "cell_type": "markdown",
   "id": "5d092936-ad46-44df-ad00-6e8f8e0d2112",
   "metadata": {},
   "source": [
    "## Importing Libraries"
   ]
  },
  {
   "cell_type": "code",
   "execution_count": 1,
   "id": "a7011857-fb52-4bd6-9711-6ab38bacbd4f",
   "metadata": {},
   "outputs": [
    {
     "name": "stdout",
     "output_type": "stream",
     "text": [
      "\u001b[33mWARNING: Ignoring invalid distribution -penai (/opt/conda/lib/python3.9/site-packages)\u001b[0m\n",
      "\u001b[33mWARNING: Ignoring invalid distribution -penai (/opt/conda/lib/python3.9/site-packages)\u001b[0m\n",
      "\u001b[31mERROR: Could not find a version that satisfies the requirement PyPDFLoader (from versions: none)\u001b[0m\n",
      "\u001b[31mERROR: No matching distribution found for PyPDFLoader\u001b[0m\n",
      "\u001b[33mWARNING: Ignoring invalid distribution -penai (/opt/conda/lib/python3.9/site-packages)\u001b[0m\n",
      "\u001b[33mWARNING: Ignoring invalid distribution -penai (/opt/conda/lib/python3.9/site-packages)\u001b[0m\n",
      "\u001b[33mWARNING: Ignoring invalid distribution -penai (/opt/conda/lib/python3.9/site-packages)\u001b[0m\n"
     ]
    }
   ],
   "source": [
    "!pip install PyPDFLoader --user"
   ]
  },
  {
   "cell_type": "code",
   "execution_count": 2,
   "id": "79a1a591-9bba-44cb-ba00-15a38ccc74bb",
   "metadata": {},
   "outputs": [],
   "source": [
    "%load_ext autoreload\n",
    "%load_ext watermark\n",
    "%autoreload 2"
   ]
  },
  {
   "cell_type": "code",
   "execution_count": 3,
   "id": "67aef2f0-1efb-4dcf-91d0-08be6aa6f406",
   "metadata": {},
   "outputs": [],
   "source": [
    "import os\n",
    "from time import time, sleep\n",
    "from pathlib import Path\n",
    "import openai\n",
    "from langchain.callbacks import get_openai_callback\n",
    "from langchain.embeddings import OpenAIEmbeddings\n",
    "from langchain.document_loaders import PyPDFLoader, UnstructuredPDFLoader\n",
    "from langchain.text_splitter import CharacterTextSplitter\n",
    "from langchain.vectorstores import Chroma\n",
    "from langchain.chains import RetrievalQAWithSourcesChain, ConversationalRetrievalChain\n",
    "from langchain.chains import RetrievalQA\n",
    "from langchain.llms import AzureOpenAI\n",
    "from langchain.chat_models import ChatOpenAI\n",
    "from langchain.schema import (\n",
    "    AIMessage,\n",
    "    HumanMessage,\n",
    "    SystemMessage\n",
    ")"
   ]
  },
  {
   "cell_type": "markdown",
   "id": "9cf758bb-ba1a-483e-8d74-4c69d0681122",
   "metadata": {},
   "source": [
    "## Initialize the Embedding and setting up enviornment variables"
   ]
  },
  {
   "cell_type": "code",
   "execution_count": 4,
   "id": "2c3898e7-2b9b-4f80-a8ce-be18ffb2ad94",
   "metadata": {},
   "outputs": [],
   "source": [
    "openai.api_key = os.getenv(\"OPENAI_API_KEY\")\n",
    "\n",
    "embeddings = OpenAIEmbeddings(model=\"text-embedding-ada-002\", chunk_size=1)"
   ]
  },
  {
   "cell_type": "markdown",
   "id": "51b6003c-3e5a-46db-b995-3967f666f961",
   "metadata": {},
   "source": [
    "## Initialize Language models"
   ]
  },
  {
   "cell_type": "code",
   "execution_count": 5,
   "id": "86c67e97-2675-4ac2-9784-08e633487649",
   "metadata": {},
   "outputs": [
    {
     "name": "stderr",
     "output_type": "stream",
     "text": [
      "WARNING! engine is not default parameter.\n",
      "                    engine was transferred to model_kwargs.\n",
      "                    Please confirm that engine is what you intended.\n"
     ]
    }
   ],
   "source": [
    "from langchain.chat_models import ChatOpenAI\n",
    "\n",
    "model_name = \"gpt-4\"\n",
    "\n",
    "# model_name = \"gpt-35-turbo\"\n",
    "\n",
    "llm = ChatOpenAI(engine = model_name, temperature=0)"
   ]
  },
  {
   "cell_type": "markdown",
   "id": "dc847e99-b2cd-4e29-bc19-7b8c5e9de2ef",
   "metadata": {},
   "source": [
    "## Build RetrieverDB and test queries"
   ]
  },
  {
   "cell_type": "code",
   "execution_count": 6,
   "id": "8e834a9a-86c5-48cf-9917-19384880923f",
   "metadata": {},
   "outputs": [],
   "source": [
    "def qa(query, llm, retriever, chain_type,verbose=True):\n",
    "    # create a chain to answer questions \n",
    "    qa = RetrievalQA.from_chain_type(\n",
    "        llm=llm, chain_type=chain_type, retriever=retriever, return_source_documents=True)\n",
    "    result = qa({\"query\": query})\n",
    "    if verbose:\n",
    "        print('Q:', result['query'])\n",
    "        print('A:', result['result'])\n",
    "    return result"
   ]
  },
  {
   "cell_type": "markdown",
   "id": "bbae204b-b934-4e26-bf16-6bff5ab75399",
   "metadata": {},
   "source": [
    "## Test Unstructured PDF"
   ]
  },
  {
   "cell_type": "code",
   "execution_count": 11,
   "id": "e27db54c-176e-4b68-8261-f77dcf04afc0",
   "metadata": {},
   "outputs": [
    {
     "name": "stdout",
     "output_type": "stream",
     "text": [
      "3\n"
     ]
    }
   ],
   "source": [
    "file = \"/mnt/NLP/OpenAI/PDF/New_York.pdf\"\n",
    "loader = PyPDFLoader(file)\n",
    "documents = loader.load()\n",
    "text_splitter = CharacterTextSplitter(chunk_size=1000, chunk_overlap=0)\n",
    "texts = text_splitter.split_documents(documents)\n",
    "print(len(texts))"
   ]
  },
  {
   "cell_type": "code",
   "execution_count": 12,
   "id": "54074363-f2bf-4ef8-9a4a-a6e787a98e06",
   "metadata": {},
   "outputs": [],
   "source": [
    "top_k = 3\n",
    "db = Chroma.from_documents(texts, embeddings)\n",
    "# expose this index in a retriever interface\n",
    "retriever = db.as_retriever(search_type=\"similarity\", search_kwargs={\"k\": top_k})"
   ]
  },
  {
   "cell_type": "markdown",
   "id": "28af4615-50c3-47e5-9501-e1a79d0a95f0",
   "metadata": {},
   "source": [
    "## Questions and Answers"
   ]
  },
  {
   "cell_type": "code",
   "execution_count": 13,
   "id": "d24f6fb8-39dc-4bfd-9392-8695aa0d75a4",
   "metadata": {},
   "outputs": [
    {
     "name": "stdout",
     "output_type": "stream",
     "text": [
      "Q: What are the places to visit Newyork?\n",
      "A: There are numerous places to visit in New York City. Some of the most popular attractions include:\n",
      "\n",
      "1. Statue of Liberty: A symbol of freedom and democracy, this iconic monument is a must-visit.\n",
      "2. Central Park: A massive urban park in the heart of Manhattan, offering various recreational activities and beautiful scenery.\n",
      "3. Times Square: Known as \"The Crossroads of the World,\" this bustling area is famous for its bright lights, shopping, and entertainment.\n",
      "4. Empire State Building: An iconic skyscraper with an observation deck offering stunning views of the city.\n",
      "5. Broadway: Catch a world-class theater performance at one of the many theaters in this famous district.\n",
      "6. Metropolitan Museum of Art: One of the largest and most prestigious art museums in the world, featuring a vast collection of art from various periods and cultures.\n",
      "7. Museum of Modern Art (MoMA): A renowned museum showcasing modern and contemporary art.\n",
      "8. One World Observatory: Located at the top of One World Trade Center, this observation deck offers panoramic views of the city.\n",
      "9. 9/11 Memorial and Museum: A tribute to the victims of the September 11 attacks, featuring a memorial and museum.\n",
      "10. Brooklyn Bridge: A historic and iconic bridge connecting Manhattan and Brooklyn, offering beautiful views of the city skyline.\n",
      "11. High Line: A unique elevated park built on a former railway line, offering green spaces and stunning views.\n",
      "12. Rockefeller Center: A complex of commercial buildings, home to the famous ice-skating rink and the Top of the Rock observation deck.\n",
      "13. American Museum of Natural History: A world-famous museum featuring exhibits on natural history, science, and culture.\n",
      "14. Coney Island: A historic amusement park and beach area in Brooklyn.\n",
      "15. Grand Central Terminal: A historic and architecturally stunning train station in Midtown Manhattan.\n",
      "\n",
      "These are just a few of the many attractions New York City has to offer. Each borough has its own unique sights and experiences, making it a city with endless possibilities for exploration.\n"
     ]
    }
   ],
   "source": [
    "chain_type = 'stuff'\n",
    "\n",
    "qa_query = \"What are the places to visit Newyork?\"\n",
    "\n",
    "result = qa(qa_query, llm, retriever, chain_type);"
   ]
  },
  {
   "cell_type": "code",
   "execution_count": null,
   "id": "a60d4e94-3101-44e7-ba50-ab3aee1a9680",
   "metadata": {},
   "outputs": [],
   "source": [
    "qa_query = \"List the certifications?\"\n",
    "\n",
    "result = qa(qa_query, llm, retriever, chain_type);"
   ]
  },
  {
   "cell_type": "code",
   "execution_count": null,
   "id": "480a22ea-6d5f-415e-914e-f34a72a61ac0",
   "metadata": {},
   "outputs": [],
   "source": []
  }
 ],
 "metadata": {
  "kernelspec": {
   "display_name": "Python 3 (ipykernel)",
   "language": "python",
   "name": "python3"
  },
  "language_info": {
   "codemirror_mode": {
    "name": "ipython",
    "version": 3
   },
   "file_extension": ".py",
   "mimetype": "text/x-python",
   "name": "python",
   "nbconvert_exporter": "python",
   "pygments_lexer": "ipython3",
   "version": "3.9.12"
  }
 },
 "nbformat": 4,
 "nbformat_minor": 5
}
