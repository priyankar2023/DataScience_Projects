{
 "cells": [
  {
   "cell_type": "markdown",
   "id": "21e99528-ba53-4d33-9eb5-662650a0007f",
   "metadata": {},
   "source": [
    "## Importing Libraries"
   ]
  },
  {
   "cell_type": "code",
   "execution_count": 1,
   "id": "72e16127-0e96-428b-a60d-256057bb5409",
   "metadata": {},
   "outputs": [],
   "source": [
    "# !pip install umap --user\n",
    "# !pip install umap-learn --user\n",
    "# !pip install hdbscan --user\n",
    "# !pip install datasets --user\n",
    "# !pip install sentence_transformers --user\n",
    "# !pip install gensim --user\n",
    "\n",
    "# !pip install openai --user"
   ]
  },
  {
   "cell_type": "code",
   "execution_count": 2,
   "id": "71479340-85fa-44fa-9849-39a0cc4c8907",
   "metadata": {},
   "outputs": [],
   "source": [
    "import os\n",
    "import re\n",
    "import openai\n",
    "import gensim\n",
    "import pandas as pd\n",
    "import numpy as np\n",
    "import seaborn as sns\n",
    "from umap import UMAP\n",
    "from hdbscan import HDBSCAN\n",
    "import matplotlib.pyplot as plt\n",
    "import gensim.corpora as corpora\n",
    "from datasets import load_dataset\n",
    "from gensim.utils import simple_preprocess\n",
    "from sklearn.metrics import silhouette_score\n",
    "from sklearn.model_selection import GridSearchCV\n",
    "from sentence_transformers import SentenceTransformer\n",
    "from sklearn.metrics.pairwise import cosine_similarity\n",
    "\n",
    "import warnings\n",
    "warnings.filterwarnings(\"ignore\")"
   ]
  },
  {
   "cell_type": "markdown",
   "id": "462a42bf-4444-43d5-82fa-10ddab7f6dab",
   "metadata": {},
   "source": [
    "## Loading the dataset"
   ]
  },
  {
   "cell_type": "code",
   "execution_count": 3,
   "id": "d2046d0a-6013-43f2-a792-98ce3e0bb470",
   "metadata": {},
   "outputs": [
    {
     "data": {
      "text/plain": [
       "(7600, 2)"
      ]
     },
     "execution_count": 3,
     "metadata": {},
     "output_type": "execute_result"
    }
   ],
   "source": [
    "ag_news_dataset = load_dataset(\"ag_news\", split = \"test\")\n",
    "\n",
    "ag_news_dataset.shape"
   ]
  },
  {
   "cell_type": "code",
   "execution_count": 4,
   "id": "0d012b19-b69d-4819-9c07-3a1b9e6435d8",
   "metadata": {},
   "outputs": [
    {
     "data": {
      "text/html": [
       "<div>\n",
       "<style scoped>\n",
       "    .dataframe tbody tr th:only-of-type {\n",
       "        vertical-align: middle;\n",
       "    }\n",
       "\n",
       "    .dataframe tbody tr th {\n",
       "        vertical-align: top;\n",
       "    }\n",
       "\n",
       "    .dataframe thead th {\n",
       "        text-align: right;\n",
       "    }\n",
       "</style>\n",
       "<table border=\"1\" class=\"dataframe\">\n",
       "  <thead>\n",
       "    <tr style=\"text-align: right;\">\n",
       "      <th></th>\n",
       "      <th>text</th>\n",
       "      <th>label</th>\n",
       "    </tr>\n",
       "  </thead>\n",
       "  <tbody>\n",
       "    <tr>\n",
       "      <th>0</th>\n",
       "      <td>Fears for T N pension after talks Unions repre...</td>\n",
       "      <td>2</td>\n",
       "    </tr>\n",
       "    <tr>\n",
       "      <th>1</th>\n",
       "      <td>The Race is On: Second Private Team Sets Launc...</td>\n",
       "      <td>3</td>\n",
       "    </tr>\n",
       "    <tr>\n",
       "      <th>2</th>\n",
       "      <td>Ky. Company Wins Grant to Study Peptides (AP) ...</td>\n",
       "      <td>3</td>\n",
       "    </tr>\n",
       "    <tr>\n",
       "      <th>3</th>\n",
       "      <td>Prediction Unit Helps Forecast Wildfires (AP) ...</td>\n",
       "      <td>3</td>\n",
       "    </tr>\n",
       "    <tr>\n",
       "      <th>4</th>\n",
       "      <td>Calif. Aims to Limit Farm-Related Smog (AP) AP...</td>\n",
       "      <td>3</td>\n",
       "    </tr>\n",
       "  </tbody>\n",
       "</table>\n",
       "</div>"
      ],
      "text/plain": [
       "                                                text  label\n",
       "0  Fears for T N pension after talks Unions repre...      2\n",
       "1  The Race is On: Second Private Team Sets Launc...      3\n",
       "2  Ky. Company Wins Grant to Study Peptides (AP) ...      3\n",
       "3  Prediction Unit Helps Forecast Wildfires (AP) ...      3\n",
       "4  Calif. Aims to Limit Farm-Related Smog (AP) AP...      3"
      ]
     },
     "execution_count": 4,
     "metadata": {},
     "output_type": "execute_result"
    }
   ],
   "source": [
    "df = pd.DataFrame(ag_news_dataset)\n",
    "\n",
    "df.head()"
   ]
  },
  {
   "cell_type": "markdown",
   "id": "de9999dc-df4d-45f6-8d34-4007ca56461e",
   "metadata": {},
   "source": [
    "## Data Exploration"
   ]
  },
  {
   "cell_type": "code",
   "execution_count": 5,
   "id": "5b455a02-08ac-4a5e-a5a4-965bdc2180f5",
   "metadata": {},
   "outputs": [
    {
     "data": {
      "text/plain": [
       "<AxesSubplot: xlabel='label', ylabel='count'>"
      ]
     },
     "execution_count": 5,
     "metadata": {},
     "output_type": "execute_result"
    },
    {
     "data": {
      "image/png": "[encoded data removed]",
      "text/plain": [
       "<Figure size 432x288 with 1 Axes>"
      ]
     },
     "metadata": {
      "needs_background": "light"
     },
     "output_type": "display_data"
    }
   ],
   "source": [
    "sns.countplot(x = \"label\", data = df)"
   ]
  },
  {
   "cell_type": "markdown",
   "id": "ec0b7330-db49-47fd-91dc-e9b6cf4d9431",
   "metadata": {},
   "source": [
    "## Creating Text Embedding using Sentence Transformer"
   ]
  },
  {
   "cell_type": "code",
   "execution_count": 6,
   "id": "5dbdcf6c-deff-4ffd-a0c3-4e05f96134a7",
   "metadata": {},
   "outputs": [],
   "source": [
    "text_data = df[\"text\"].values.tolist()"
   ]
  },
  {
   "cell_type": "code",
   "execution_count": 7,
   "id": "6f4de5c3-1183-49a8-a27b-8c2551a9b98d",
   "metadata": {},
   "outputs": [],
   "source": [
    "embedding_model = SentenceTransformer(\"BAAI/bge-small-en\")\n",
    "\n",
    "text_embedding = embedding_model.encode(text_data)\n",
    "\n",
    "df['embeddings'] = list(text_embedding)"
   ]
  },
  {
   "cell_type": "markdown",
   "id": "c504adf7-be68-4c01-9b54-08dba51253e1",
   "metadata": {},
   "source": [
    "## Creating UMAP Model for dimentsionallity reduction of embedding"
   ]
  },
  {
   "cell_type": "code",
   "execution_count": 8,
   "id": "7ec2ffa9-be9c-41b6-8545-1249304537a2",
   "metadata": {},
   "outputs": [],
   "source": [
    "umap_model = UMAP()"
   ]
  },
  {
   "cell_type": "markdown",
   "id": "b30e1726-759f-4d35-9229-ae22ff9e78b5",
   "metadata": {},
   "source": [
    "## Finding optimal values of hyper parameters"
   ]
  },
  {
   "cell_type": "code",
   "execution_count": 9,
   "id": "9fd7088a-de88-4d1f-86b5-3c2e79aad969",
   "metadata": {},
   "outputs": [],
   "source": [
    "param_grid = {\"n_neighbors\": [10, 15, 20],\n",
    "              \"n_components\": [5, 10],\n",
    "              \"min_dist\": [0.0],\n",
    "              \"metric\": [\"cosine\"]}"
   ]
  },
  {
   "cell_type": "code",
   "execution_count": 10,
   "id": "270df8db-f9ef-46e9-a294-5f67228f4eff",
   "metadata": {},
   "outputs": [
    {
     "name": "stderr",
     "output_type": "stream",
     "text": [
      "huggingface/tokenizers: The current process just got forked, after parallelism has already been used. Disabling parallelism to avoid deadlocks...\n",
      "To disable this warning, you can either:\n",
      "\t- Avoid using `tokenizers` before the fork if possible\n",
      "\t- Explicitly set the environment variable TOKENIZERS_PARALLELISM=(true | false)\n",
      "huggingface/tokenizers: The current process just got forked, after parallelism has already been used. Disabling parallelism to avoid deadlocks...\n",
      "To disable this warning, you can either:\n",
      "\t- Avoid using `tokenizers` before the fork if possible\n",
      "\t- Explicitly set the environment variable TOKENIZERS_PARALLELISM=(true | false)\n",
      "huggingface/tokenizers: The current process just got forked, after parallelism has already been used. Disabling parallelism to avoid deadlocks...\n",
      "To disable this warning, you can either:\n",
      "\t- Avoid using `tokenizers` before the fork if possible\n",
      "\t- Explicitly set the environment variable TOKENIZERS_PARALLELISM=(true | false)\n",
      "huggingface/tokenizers: The current process just got forked, after parallelism has already been used. Disabling parallelism to avoid deadlocks...\n",
      "To disable this warning, you can either:\n",
      "\t- Avoid using `tokenizers` before the fork if possible\n",
      "\t- Explicitly set the environment variable TOKENIZERS_PARALLELISM=(true | false)\n",
      "/opt/conda/lib/python3.9/site-packages/sklearn/model_selection/_validation.py:770: UserWarning: Scoring failed. The score on this train-test partition for these parameters will be set to nan. Details: \n",
      "Traceback (most recent call last):\n",
      "  File \"/opt/conda/lib/python3.9/site-packages/sklearn/model_selection/_validation.py\", line 759, in _score\n",
      "    scores = scorer(estimator, X_test)\n",
      "TypeError: __call__() missing 1 required positional argument: 'y_true'\n",
      "\n",
      "  warnings.warn(\n",
      "/opt/conda/lib/python3.9/site-packages/sklearn/model_selection/_validation.py:770: UserWarning: Scoring failed. The score on this train-test partition for these parameters will be set to nan. Details: \n",
      "Traceback (most recent call last):\n",
      "  File \"/opt/conda/lib/python3.9/site-packages/sklearn/model_selection/_validation.py\", line 759, in _score\n",
      "    scores = scorer(estimator, X_test)\n",
      "TypeError: __call__() missing 1 required positional argument: 'y_true'\n",
      "\n",
      "  warnings.warn(\n",
      "/opt/conda/lib/python3.9/site-packages/sklearn/model_selection/_validation.py:770: UserWarning: Scoring failed. The score on this train-test partition for these parameters will be set to nan. Details: \n",
      "Traceback (most recent call last):\n",
      "  File \"/opt/conda/lib/python3.9/site-packages/sklearn/model_selection/_validation.py\", line 759, in _score\n",
      "    scores = scorer(estimator, X_test)\n",
      "TypeError: __call__() missing 1 required positional argument: 'y_true'\n",
      "\n",
      "  warnings.warn(\n",
      "/opt/conda/lib/python3.9/site-packages/sklearn/model_selection/_validation.py:770: UserWarning: Scoring failed. The score on this train-test partition for these parameters will be set to nan. Details: \n",
      "Traceback (most recent call last):\n",
      "  File \"/opt/conda/lib/python3.9/site-packages/sklearn/model_selection/_validation.py\", line 759, in _score\n",
      "    scores = scorer(estimator, X_test)\n",
      "TypeError: __call__() missing 1 required positional argument: 'y_true'\n",
      "\n",
      "  warnings.warn(\n",
      "/opt/conda/lib/python3.9/site-packages/sklearn/model_selection/_validation.py:770: UserWarning: Scoring failed. The score on this train-test partition for these parameters will be set to nan. Details: \n",
      "Traceback (most recent call last):\n",
      "  File \"/opt/conda/lib/python3.9/site-packages/sklearn/model_selection/_validation.py\", line 759, in _score\n",
      "    scores = scorer(estimator, X_test)\n",
      "TypeError: __call__() missing 1 required positional argument: 'y_true'\n",
      "\n",
      "  warnings.warn(\n",
      "/opt/conda/lib/python3.9/site-packages/sklearn/model_selection/_validation.py:770: UserWarning: Scoring failed. The score on this train-test partition for these parameters will be set to nan. Details: \n",
      "Traceback (most recent call last):\n",
      "  File \"/opt/conda/lib/python3.9/site-packages/sklearn/model_selection/_validation.py\", line 759, in _score\n",
      "    scores = scorer(estimator, X_test)\n",
      "TypeError: __call__() missing 1 required positional argument: 'y_true'\n",
      "\n",
      "  warnings.warn(\n",
      "/opt/conda/lib/python3.9/site-packages/sklearn/model_selection/_validation.py:770: UserWarning: Scoring failed. The score on this train-test partition for these parameters will be set to nan. Details: \n",
      "Traceback (most recent call last):\n",
      "  File \"/opt/conda/lib/python3.9/site-packages/sklearn/model_selection/_validation.py\", line 759, in _score\n",
      "    scores = scorer(estimator, X_test)\n",
      "TypeError: __call__() missing 1 required positional argument: 'y_true'\n",
      "\n",
      "  warnings.warn(\n",
      "/opt/conda/lib/python3.9/site-packages/sklearn/model_selection/_validation.py:770: UserWarning: Scoring failed. The score on this train-test partition for these parameters will be set to nan. Details: \n",
      "Traceback (most recent call last):\n",
      "  File \"/opt/conda/lib/python3.9/site-packages/sklearn/model_selection/_validation.py\", line 759, in _score\n",
      "    scores = scorer(estimator, X_test)\n",
      "TypeError: __call__() missing 1 required positional argument: 'y_true'\n",
      "\n",
      "  warnings.warn(\n",
      "/opt/conda/lib/python3.9/site-packages/sklearn/model_selection/_validation.py:770: UserWarning: Scoring failed. The score on this train-test partition for these parameters will be set to nan. Details: \n",
      "Traceback (most recent call last):\n",
      "  File \"/opt/conda/lib/python3.9/site-packages/sklearn/model_selection/_validation.py\", line 759, in _score\n",
      "    scores = scorer(estimator, X_test)\n",
      "TypeError: __call__() missing 1 required positional argument: 'y_true'\n",
      "\n",
      "  warnings.warn(\n",
      "/opt/conda/lib/python3.9/site-packages/sklearn/model_selection/_validation.py:770: UserWarning: Scoring failed. The score on this train-test partition for these parameters will be set to nan. Details: \n",
      "Traceback (most recent call last):\n",
      "  File \"/opt/conda/lib/python3.9/site-packages/sklearn/model_selection/_validation.py\", line 759, in _score\n",
      "    scores = scorer(estimator, X_test)\n",
      "TypeError: __call__() missing 1 required positional argument: 'y_true'\n",
      "\n",
      "  warnings.warn(\n",
      "/opt/conda/lib/python3.9/site-packages/sklearn/model_selection/_validation.py:770: UserWarning: Scoring failed. The score on this train-test partition for these parameters will be set to nan. Details: \n",
      "Traceback (most recent call last):\n",
      "  File \"/opt/conda/lib/python3.9/site-packages/sklearn/model_selection/_validation.py\", line 759, in _score\n",
      "    scores = scorer(estimator, X_test)\n",
      "TypeError: __call__() missing 1 required positional argument: 'y_true'\n",
      "\n",
      "  warnings.warn(\n",
      "/opt/conda/lib/python3.9/site-packages/sklearn/model_selection/_validation.py:770: UserWarning: Scoring failed. The score on this train-test partition for these parameters will be set to nan. Details: \n",
      "Traceback (most recent call last):\n",
      "  File \"/opt/conda/lib/python3.9/site-packages/sklearn/model_selection/_validation.py\", line 759, in _score\n",
      "    scores = scorer(estimator, X_test)\n",
      "TypeError: __call__() missing 1 required positional argument: 'y_true'\n",
      "\n",
      "  warnings.warn(\n",
      "/opt/conda/lib/python3.9/site-packages/sklearn/model_selection/_validation.py:770: UserWarning: Scoring failed. The score on this train-test partition for these parameters will be set to nan. Details: \n",
      "Traceback (most recent call last):\n",
      "  File \"/opt/conda/lib/python3.9/site-packages/sklearn/model_selection/_validation.py\", line 759, in _score\n",
      "    scores = scorer(estimator, X_test)\n",
      "TypeError: __call__() missing 1 required positional argument: 'y_true'\n",
      "\n",
      "  warnings.warn(\n",
      "/opt/conda/lib/python3.9/site-packages/sklearn/model_selection/_validation.py:770: UserWarning: Scoring failed. The score on this train-test partition for these parameters will be set to nan. Details: \n",
      "Traceback (most recent call last):\n",
      "  File \"/opt/conda/lib/python3.9/site-packages/sklearn/model_selection/_validation.py\", line 759, in _score\n",
      "    scores = scorer(estimator, X_test)\n",
      "TypeError: __call__() missing 1 required positional argument: 'y_true'\n",
      "\n",
      "  warnings.warn(\n",
      "/opt/conda/lib/python3.9/site-packages/sklearn/model_selection/_validation.py:770: UserWarning: Scoring failed. The score on this train-test partition for these parameters will be set to nan. Details: \n",
      "Traceback (most recent call last):\n",
      "  File \"/opt/conda/lib/python3.9/site-packages/sklearn/model_selection/_validation.py\", line 759, in _score\n",
      "    scores = scorer(estimator, X_test)\n",
      "TypeError: __call__() missing 1 required positional argument: 'y_true'\n",
      "\n",
      "  warnings.warn(\n",
      "/opt/conda/lib/python3.9/site-packages/sklearn/model_selection/_validation.py:770: UserWarning: Scoring failed. The score on this train-test partition for these parameters will be set to nan. Details: \n",
      "Traceback (most recent call last):\n",
      "  File \"/opt/conda/lib/python3.9/site-packages/sklearn/model_selection/_validation.py\", line 759, in _score\n",
      "    scores = scorer(estimator, X_test)\n",
      "TypeError: __call__() missing 1 required positional argument: 'y_true'\n",
      "\n",
      "  warnings.warn(\n",
      "/opt/conda/lib/python3.9/site-packages/sklearn/model_selection/_validation.py:770: UserWarning: Scoring failed. The score on this train-test partition for these parameters will be set to nan. Details: \n",
      "Traceback (most recent call last):\n",
      "  File \"/opt/conda/lib/python3.9/site-packages/sklearn/model_selection/_validation.py\", line 759, in _score\n",
      "    scores = scorer(estimator, X_test)\n",
      "TypeError: __call__() missing 1 required positional argument: 'y_true'\n",
      "\n",
      "  warnings.warn(\n",
      "/opt/conda/lib/python3.9/site-packages/sklearn/model_selection/_validation.py:770: UserWarning: Scoring failed. The score on this train-test partition for these parameters will be set to nan. Details: \n",
      "Traceback (most recent call last):\n",
      "  File \"/opt/conda/lib/python3.9/site-packages/sklearn/model_selection/_validation.py\", line 759, in _score\n",
      "    scores = scorer(estimator, X_test)\n",
      "TypeError: __call__() missing 1 required positional argument: 'y_true'\n",
      "\n",
      "  warnings.warn(\n",
      "/opt/conda/lib/python3.9/site-packages/sklearn/model_selection/_validation.py:770: UserWarning: Scoring failed. The score on this train-test partition for these parameters will be set to nan. Details: \n",
      "Traceback (most recent call last):\n",
      "  File \"/opt/conda/lib/python3.9/site-packages/sklearn/model_selection/_validation.py\", line 759, in _score\n",
      "    scores = scorer(estimator, X_test)\n",
      "TypeError: __call__() missing 1 required positional argument: 'y_true'\n",
      "\n",
      "  warnings.warn(\n",
      "/opt/conda/lib/python3.9/site-packages/sklearn/model_selection/_validation.py:770: UserWarning: Scoring failed. The score on this train-test partition for these parameters will be set to nan. Details: \n",
      "Traceback (most recent call last):\n",
      "  File \"/opt/conda/lib/python3.9/site-packages/sklearn/model_selection/_validation.py\", line 759, in _score\n",
      "    scores = scorer(estimator, X_test)\n",
      "TypeError: __call__() missing 1 required positional argument: 'y_true'\n",
      "\n",
      "  warnings.warn(\n",
      "/opt/conda/lib/python3.9/site-packages/sklearn/model_selection/_validation.py:770: UserWarning: Scoring failed. The score on this train-test partition for these parameters will be set to nan. Details: \n",
      "Traceback (most recent call last):\n",
      "  File \"/opt/conda/lib/python3.9/site-packages/sklearn/model_selection/_validation.py\", line 759, in _score\n",
      "    scores = scorer(estimator, X_test)\n",
      "TypeError: __call__() missing 1 required positional argument: 'y_true'\n",
      "\n",
      "  warnings.warn(\n",
      "/opt/conda/lib/python3.9/site-packages/sklearn/model_selection/_validation.py:770: UserWarning: Scoring failed. The score on this train-test partition for these parameters will be set to nan. Details: \n",
      "Traceback (most recent call last):\n",
      "  File \"/opt/conda/lib/python3.9/site-packages/sklearn/model_selection/_validation.py\", line 759, in _score\n",
      "    scores = scorer(estimator, X_test)\n",
      "TypeError: __call__() missing 1 required positional argument: 'y_true'\n",
      "\n",
      "  warnings.warn(\n",
      "/opt/conda/lib/python3.9/site-packages/sklearn/model_selection/_validation.py:770: UserWarning: Scoring failed. The score on this train-test partition for these parameters will be set to nan. Details: \n",
      "Traceback (most recent call last):\n",
      "  File \"/opt/conda/lib/python3.9/site-packages/sklearn/model_selection/_validation.py\", line 759, in _score\n",
      "    scores = scorer(estimator, X_test)\n",
      "TypeError: __call__() missing 1 required positional argument: 'y_true'\n",
      "\n",
      "  warnings.warn(\n",
      "/opt/conda/lib/python3.9/site-packages/sklearn/model_selection/_validation.py:770: UserWarning: Scoring failed. The score on this train-test partition for these parameters will be set to nan. Details: \n",
      "Traceback (most recent call last):\n",
      "  File \"/opt/conda/lib/python3.9/site-packages/sklearn/model_selection/_validation.py\", line 759, in _score\n",
      "    scores = scorer(estimator, X_test)\n",
      "TypeError: __call__() missing 1 required positional argument: 'y_true'\n",
      "\n",
      "  warnings.warn(\n",
      "/opt/conda/lib/python3.9/site-packages/sklearn/model_selection/_validation.py:770: UserWarning: Scoring failed. The score on this train-test partition for these parameters will be set to nan. Details: \n",
      "Traceback (most recent call last):\n",
      "  File \"/opt/conda/lib/python3.9/site-packages/sklearn/model_selection/_validation.py\", line 759, in _score\n",
      "    scores = scorer(estimator, X_test)\n",
      "TypeError: __call__() missing 1 required positional argument: 'y_true'\n",
      "\n",
      "  warnings.warn(\n",
      "/opt/conda/lib/python3.9/site-packages/sklearn/model_selection/_validation.py:770: UserWarning: Scoring failed. The score on this train-test partition for these parameters will be set to nan. Details: \n",
      "Traceback (most recent call last):\n",
      "  File \"/opt/conda/lib/python3.9/site-packages/sklearn/model_selection/_validation.py\", line 759, in _score\n",
      "    scores = scorer(estimator, X_test)\n",
      "TypeError: __call__() missing 1 required positional argument: 'y_true'\n",
      "\n",
      "  warnings.warn(\n",
      "/opt/conda/lib/python3.9/site-packages/sklearn/model_selection/_validation.py:770: UserWarning: Scoring failed. The score on this train-test partition for these parameters will be set to nan. Details: \n",
      "Traceback (most recent call last):\n",
      "  File \"/opt/conda/lib/python3.9/site-packages/sklearn/model_selection/_validation.py\", line 759, in _score\n",
      "    scores = scorer(estimator, X_test)\n",
      "TypeError: __call__() missing 1 required positional argument: 'y_true'\n",
      "\n",
      "  warnings.warn(\n",
      "/opt/conda/lib/python3.9/site-packages/sklearn/model_selection/_validation.py:770: UserWarning: Scoring failed. The score on this train-test partition for these parameters will be set to nan. Details: \n",
      "Traceback (most recent call last):\n",
      "  File \"/opt/conda/lib/python3.9/site-packages/sklearn/model_selection/_validation.py\", line 759, in _score\n",
      "    scores = scorer(estimator, X_test)\n",
      "TypeError: __call__() missing 1 required positional argument: 'y_true'\n",
      "\n",
      "  warnings.warn(\n",
      "/opt/conda/lib/python3.9/site-packages/sklearn/model_selection/_validation.py:770: UserWarning: Scoring failed. The score on this train-test partition for these parameters will be set to nan. Details: \n",
      "Traceback (most recent call last):\n",
      "  File \"/opt/conda/lib/python3.9/site-packages/sklearn/model_selection/_validation.py\", line 759, in _score\n",
      "    scores = scorer(estimator, X_test)\n",
      "TypeError: __call__() missing 1 required positional argument: 'y_true'\n",
      "\n",
      "  warnings.warn(\n",
      "/opt/conda/lib/python3.9/site-packages/sklearn/model_selection/_validation.py:770: UserWarning: Scoring failed. The score on this train-test partition for these parameters will be set to nan. Details: \n",
      "Traceback (most recent call last):\n",
      "  File \"/opt/conda/lib/python3.9/site-packages/sklearn/model_selection/_validation.py\", line 759, in _score\n",
      "    scores = scorer(estimator, X_test)\n",
      "TypeError: __call__() missing 1 required positional argument: 'y_true'\n",
      "\n",
      "  warnings.warn(\n"
     ]
    }
   ],
   "source": [
    "grid_search = GridSearchCV(estimator = umap_model, \n",
    "                           param_grid = param_grid, \n",
    "                           scoring = \"neg_mean_squared_error\", \n",
    "                           n_jobs=-1)\n",
    "\n",
    "grid_result = grid_search.fit(text_embedding)"
   ]
  },
  {
   "cell_type": "code",
   "execution_count": 11,
   "id": "96fb6600-4e0a-4b86-a829-54b841b512ff",
   "metadata": {},
   "outputs": [
    {
     "name": "stdout",
     "output_type": "stream",
     "text": [
      "Best Parameters: {'metric': 'cosine', 'min_dist': 0.0, 'n_components': 5, 'n_neighbors': 10}\n"
     ]
    }
   ],
   "source": [
    "best_params = grid_result.best_params_\n",
    "\n",
    "print(\"Best Parameters:\", best_params)"
   ]
  },
  {
   "cell_type": "markdown",
   "id": "343a16b2-6668-4d4c-bdd8-80fc0ecaa1ce",
   "metadata": {},
   "source": [
    "# Getting the best UMAP model"
   ]
  },
  {
   "cell_type": "code",
   "execution_count": 12,
   "id": "21af320f-1321-4ff2-871f-1707e9b6878e",
   "metadata": {},
   "outputs": [],
   "source": [
    "best_umap_model = grid_search.best_estimator_\n",
    "\n",
    "reduced_text_embeddings = best_umap_model.fit_transform(text_embedding)"
   ]
  },
  {
   "cell_type": "code",
   "execution_count": 13,
   "id": "cd248d4f-341e-4013-9864-c9a6bf03baba",
   "metadata": {},
   "outputs": [
    {
     "data": {
      "text/plain": [
       "array([[ 0.42186838,  6.9067264 ,  9.8567505 ,  5.420211  ,  4.922859  ],\n",
       "       [ 1.3872406 ,  5.959768  ,  6.12122   ,  5.4796906 ,  6.789495  ],\n",
       "       [ 2.1640227 ,  5.0856957 ,  8.273305  ,  6.003732  ,  5.9640594 ],\n",
       "       ...,\n",
       "       [ 9.526985  ,  8.77339   ,  8.944992  ,  6.2016544 ,  4.523805  ],\n",
       "       [ 1.3686178 ,  6.530802  ,  9.016346  ,  6.4238048 ,  5.806661  ],\n",
       "       [-0.20695533,  8.248624  ,  9.866949  ,  6.187445  ,  6.0310135 ]],\n",
       "      dtype=float32)"
      ]
     },
     "execution_count": 13,
     "metadata": {},
     "output_type": "execute_result"
    }
   ],
   "source": [
    "reduced_text_embeddings"
   ]
  },
  {
   "cell_type": "markdown",
   "id": "d6570cfa-932f-4ef8-ab19-f7c1fd85b956",
   "metadata": {},
   "source": [
    "## Clustering in the embedding using HDBSCAN"
   ]
  },
  {
   "cell_type": "code",
   "execution_count": 38,
   "id": "deabf3b4-36bb-4688-a153-d75e908d92a7",
   "metadata": {},
   "outputs": [],
   "source": [
    "del min_cluster_sizes, min_samples_values"
   ]
  },
  {
   "cell_type": "code",
   "execution_count": 39,
   "id": "34efa5c2-2eb8-4e35-b887-4469684aa99a",
   "metadata": {},
   "outputs": [
    {
     "name": "stdout",
     "output_type": "stream",
     "text": [
      "Best Parameters: {'min_cluster_size': 40, 'min_samples': 5}\n"
     ]
    }
   ],
   "source": [
    "min_cluster_sizes = [5, 15, 25, 40]\n",
    "min_samples_values = [5, 10, 15, 20]\n",
    "\n",
    "best_score = -1\n",
    "best_params = {}\n",
    "\n",
    "for min_size in min_cluster_sizes:\n",
    "    for min_samples in min_samples_values:\n",
    "        clusterer = HDBSCAN(min_cluster_size=min_size, min_samples=min_samples)\n",
    "        cluster_labels = clusterer.fit_predict(reduced_text_embeddings)\n",
    "\n",
    "        silhouette_avg = silhouette_score(reduced_text_embeddings, cluster_labels)\n",
    "\n",
    "        if silhouette_avg > best_score:\n",
    "            best_score = silhouette_avg\n",
    "            best_params['min_cluster_size'] = min_size\n",
    "            best_params['min_samples'] = min_samples\n",
    "            \n",
    "print(f\"Best Parameters: {best_params}\")"
   ]
  },
  {
   "cell_type": "code",
   "execution_count": 15,
   "id": "8f3d9bfd-fe81-4168-b683-4e6794958668",
   "metadata": {},
   "outputs": [
    {
     "name": "stdout",
     "output_type": "stream",
     "text": [
      "{0, 1, 2, 3, 4, 5, 6, 7, 8, 9, 10, 11, 12, 13, 14, 15, 16, 17, 18, 19, 20, 21, 22, 23, 24, 25, 26, 27, 28, 29, 30, 31, 32, 33, 34, 35, 36, 37, 38, 39, 40, 41, 42, 43, 44, 45, 46, 47, 48, 49, -1}\n"
     ]
    }
   ],
   "source": [
    "hdbscan_model = HDBSCAN(min_cluster_size = 40,\n",
    "                        min_samples = 5,\n",
    "                        metric = \"euclidean\")\n",
    "\n",
    "cluster = hdbscan_model.fit(reduced_text_embeddings)\n",
    "\n",
    "df[\"cluster\"] = cluster.labels_\n",
    "\n",
    "print(set(cluster.labels_))"
   ]
  },
  {
   "cell_type": "code",
   "execution_count": 16,
   "id": "a4049892-d33c-4cc0-9fac-ec48e2547d86",
   "metadata": {},
   "outputs": [
    {
     "data": {
      "text/plain": [
       "51"
      ]
     },
     "execution_count": 16,
     "metadata": {},
     "output_type": "execute_result"
    }
   ],
   "source": [
    "df[\"cluster\"].nunique()"
   ]
  },
  {
   "cell_type": "code",
   "execution_count": 48,
   "id": "9af51784-8141-4d24-8219-6532cd73581e",
   "metadata": {},
   "outputs": [
    {
     "data": {
      "text/html": [
       "<div>\n",
       "<style scoped>\n",
       "    .dataframe tbody tr th:only-of-type {\n",
       "        vertical-align: middle;\n",
       "    }\n",
       "\n",
       "    .dataframe tbody tr th {\n",
       "        vertical-align: top;\n",
       "    }\n",
       "\n",
       "    .dataframe thead th {\n",
       "        text-align: right;\n",
       "    }\n",
       "</style>\n",
       "<table border=\"1\" class=\"dataframe\">\n",
       "  <thead>\n",
       "    <tr style=\"text-align: right;\">\n",
       "      <th></th>\n",
       "      <th>text</th>\n",
       "      <th>label</th>\n",
       "      <th>embeddings</th>\n",
       "      <th>cluster</th>\n",
       "    </tr>\n",
       "  </thead>\n",
       "  <tbody>\n",
       "    <tr>\n",
       "      <th>0</th>\n",
       "      <td>Fears for T N pension after talks Unions repre...</td>\n",
       "      <td>2</td>\n",
       "      <td>[-0.0146473, 0.006970333, -0.051307015, 0.0033...</td>\n",
       "      <td>-1</td>\n",
       "    </tr>\n",
       "    <tr>\n",
       "      <th>1</th>\n",
       "      <td>The Race is On: Second Private Team Sets Launc...</td>\n",
       "      <td>3</td>\n",
       "      <td>[-0.029728416, 0.012254529, -0.0025097, 0.0022...</td>\n",
       "      <td>1</td>\n",
       "    </tr>\n",
       "    <tr>\n",
       "      <th>2</th>\n",
       "      <td>Ky. Company Wins Grant to Study Peptides (AP) ...</td>\n",
       "      <td>3</td>\n",
       "      <td>[-0.07780378, -0.039871886, 0.028934998, -0.00...</td>\n",
       "      <td>19</td>\n",
       "    </tr>\n",
       "    <tr>\n",
       "      <th>3</th>\n",
       "      <td>Prediction Unit Helps Forecast Wildfires (AP) ...</td>\n",
       "      <td>3</td>\n",
       "      <td>[-0.024811884, -0.010302949, 0.039535075, 0.01...</td>\n",
       "      <td>9</td>\n",
       "    </tr>\n",
       "    <tr>\n",
       "      <th>4</th>\n",
       "      <td>Calif. Aims to Limit Farm-Related Smog (AP) AP...</td>\n",
       "      <td>3</td>\n",
       "      <td>[0.012375273, -0.0046601864, 0.042067915, -0.0...</td>\n",
       "      <td>19</td>\n",
       "    </tr>\n",
       "  </tbody>\n",
       "</table>\n",
       "</div>"
      ],
      "text/plain": [
       "                                                text  label  \\\n",
       "0  Fears for T N pension after talks Unions repre...      2   \n",
       "1  The Race is On: Second Private Team Sets Launc...      3   \n",
       "2  Ky. Company Wins Grant to Study Peptides (AP) ...      3   \n",
       "3  Prediction Unit Helps Forecast Wildfires (AP) ...      3   \n",
       "4  Calif. Aims to Limit Farm-Related Smog (AP) AP...      3   \n",
       "\n",
       "                                          embeddings  cluster  \n",
       "0  [-0.0146473, 0.006970333, -0.051307015, 0.0033...       -1  \n",
       "1  [-0.029728416, 0.012254529, -0.0025097, 0.0022...        1  \n",
       "2  [-0.07780378, -0.039871886, 0.028934998, -0.00...       19  \n",
       "3  [-0.024811884, -0.010302949, 0.039535075, 0.01...        9  \n",
       "4  [0.012375273, -0.0046601864, 0.042067915, -0.0...       19  "
      ]
     },
     "execution_count": 48,
     "metadata": {},
     "output_type": "execute_result"
    }
   ],
   "source": [
    "df.head(5)"
   ]
  },
  {
   "cell_type": "markdown",
   "id": "f261fcc2-27c1-46a3-bfc1-e6d68989c26b",
   "metadata": {},
   "source": [
    "## Documents extraction from each cluster"
   ]
  },
  {
   "cell_type": "code",
   "execution_count": 28,
   "id": "aa309c87-3416-4e17-b2e2-3c9a2ff97888",
   "metadata": {},
   "outputs": [],
   "source": [
    "top_n = 10\n",
    "diversity = 0.5\n",
    "cluster_dict = {}\n",
    "\n",
    "for cluster, x in df.groupby('cluster'):\n",
    "    if cluster == -1:\n",
    "        continue\n",
    "\n",
    "    # find the most representative documents\n",
    "    # calculating cosine similarity of the embeddings\n",
    "    candidate_d = cosine_similarity(x['embeddings'].tolist(), x['embeddings'].tolist())\n",
    "    # summing up cosine distance row wise\n",
    "    candidate_d_sum = candidate_d.sum(axis=1)\n",
    "    # finding the maximum index\n",
    "    doc_list = [np.argmax(candidate_d.sum(axis=1))]\n",
    "    candidates_idx = [i for i in range(len(x)) if i != doc_list[0]]\n",
    "\n",
    "    # filter based on maximal marginal relevance\n",
    "    for _ in range(top_n - 1):\n",
    "        candidate_similarities = candidate_d.sum(axis=1)[candidates_idx]\n",
    "        target_similarities = np.max(candidate_d[candidates_idx][:, doc_list], axis=1)\n",
    "\n",
    "        # Calculate MMR\n",
    "        mmr = (1 - diversity) * candidate_similarities - diversity * target_similarities\n",
    "        # Update keywords & candidates\n",
    "        mmr_idx = candidates_idx[np.argmax(mmr)]\n",
    "        doc_list.append(mmr_idx)\n",
    "        candidates_idx.remove(mmr_idx)\n",
    "\n",
    "    cluster_dict[cluster] = {'doc': [x['text'].tolist()[idx] for idx in doc_list]}"
   ]
  },
  {
   "cell_type": "code",
   "execution_count": 29,
   "id": "72208117-c582-4235-9530-b7aa1bc0f0e3",
   "metadata": {},
   "outputs": [
    {
     "data": {
      "text/plain": [
       "{'doc': ['Tigers #39; challenge: Win out or lose out Satchel Paige said don #39;t look back because something might be gaining on you. Satch was a baseball pitcher, not a football coach.',\n",
       "  'GAME NOTES: The 24th-ranked Memphis Tigers and the fifth-ranked &lt;b&gt;...&lt;/b&gt; Orange are set to square off in the title game of the Coaches vs. Cancer. Classic. The Orange posted an impressive 71-58 victory over 12th-ranked.',\n",
       "  'C #39;s open with dang: Squander 18-point lead in loss to Sixers This is getting monotonous. For the second straight night, a candidate from Boston was looking good after some exit polling, but when the last points/votes were counted, the opponent had the plurality.',\n",
       "  'Orioles to get paid off for Expos #39; move to DC In this crevice of the baseball globe, as the season heads to the bottom of the ninth, nothing has changed. It #39;s an annual rite for both teams by the bay to be in prime playoff position with a week to go, and ',\n",
       "  \"Red Sox Feeling Heat of 0-2 Start in ALCS (AP) AP - The infield at Fenway Park was covered with a dirty white tarp on a dreary day. Unless the Boston Red Sox start winning soon, the gloom will last all winter. The Red Sox returned home Thursday after losing the first two games of the AL championship series to the Yankees in New York. As its workout began, Boston announced ace Curt Schilling's ailing ankle will prevent him from pitching Game 5 and perhaps the rest of the postseason.\",\n",
       "  'Astros Beat Rockies to Keep Wild-Card Lead (AP) AP - Jeff Bagwell hit a two-run homer and the Houston Astros overcame a sloppy start, remaining atop the NL wild-card standings with a 4-2 victory over the Colorado Rockies on Friday night.',\n",
       "  'Hampton Start Is Pushed Back Again (AP) AP - Atlanta left-hander Mike Hampton was not able to pitch for the Braves on Wednesday, still bothered by a stiff neck that kept him out of his scheduled start Monday.',\n",
       "  '(Sports Network) - Carlos Beltran may be the newest Killer B in &lt;b&gt;...&lt;/b&gt; lineup, but right now he is also the most feared hitter on the Astros. He #39;ll. play the St. Louis Cardinals in Game 4 today at Minute Maid Park.',\n",
       "  'Tigers split at Tampa After riding Jeremy Bonderman #39;s four-hitter to an 8-0 victory over Tampa Bay in Thursday #39;s first game, the Tigers watched their worn-out bullpen come unglued -- again -- when ',\n",
       "  'Roundup: Illini men rise to top of AP poll, win game There was little celebrating when Illinois men #39;s players found out they were ranked No. 1 in the nation yesterday afternoon. There was a game to play at night.']}"
      ]
     },
     "execution_count": 29,
     "metadata": {},
     "output_type": "execute_result"
    }
   ],
   "source": [
    "cluster_dict[0]"
   ]
  },
  {
   "cell_type": "markdown",
   "id": "a73b4330-0b92-4f9c-ba26-77b221fadda6",
   "metadata": {},
   "source": [
    "## Importing Open AI libraries"
   ]
  },
  {
   "cell_type": "code",
   "execution_count": 20,
   "id": "adadae0f-f749-402a-add6-0694b7db4554",
   "metadata": {},
   "outputs": [],
   "source": [
    "import os\n",
    "import openai\n",
    "from langchain.llms import OpenAI\n",
    "import requests\n",
    "from langchain.chat_models import ChatOpenAI\n",
    "from langchain.schema import HumanMessage, SystemMessage, AIMessage"
   ]
  },
  {
   "cell_type": "markdown",
   "id": "99267b24-3a68-44d1-89c9-fda7f0039cca",
   "metadata": {},
   "source": [
    "## Setting up the enviornment variables"
   ]
  },
  {
   "cell_type": "code",
   "execution_count": 21,
   "id": "a9bc26d5-46db-4400-b7e0-2bc08f94acb9",
   "metadata": {},
   "outputs": [],
   "source": [
    "os.environ[\"OPENAI_API_KEY\"] = os.getenv(\"OPENAI_API_KEY\")"
   ]
  },
  {
   "cell_type": "markdown",
   "id": "143877c5-208c-41d5-a6ec-60146aec1800",
   "metadata": {},
   "source": [
    "## Defining the LLM model"
   ]
  },
  {
   "cell_type": "code",
   "execution_count": 32,
   "id": "1cf04b98-86d1-4173-93d9-e544a2535d5b",
   "metadata": {},
   "outputs": [],
   "source": [
    "def get_reponse(prompt, temperature = 0):\n",
    "    response = openai.ChatCompletion.create(engine = \"gpt-35-turbo\",\n",
    "                                            messages = [{\"role\": \"user\", \"content\": prompt}],\n",
    "                                            temperature = 0,\n",
    "                                            max_tokens = 100)\n",
    "    return (response.choices[0].message.content)"
   ]
  },
  {
   "cell_type": "markdown",
   "id": "7357e6cb-670a-44b8-a795-50b8337bca83",
   "metadata": {},
   "source": [
    "## Creating the title of the topic using LLM"
   ]
  },
  {
   "cell_type": "code",
   "execution_count": 33,
   "id": "a07ce91b-ef9b-4932-a199-809096f39c50",
   "metadata": {},
   "outputs": [],
   "source": [
    "for i in cluster_dict.keys():\n",
    "\n",
    "    # prompt\n",
    "    documents = \"\\n\".join([f\"{c + 1}.{text}\" for c, text in enumerate(cluster_dict[i]['doc'])])\n",
    "    delimiter = \"****\"\n",
    "    prompt = f\"\"\"\\\n",
    "    You will be provided with multiple documents that form the same cluster. \\\n",
    "    The documents will be delimited with {delimiter} characters. \\\n",
    "    Your task is to define a topic title that is well representing all the listed documents.\\\n",
    "    Output starts with 'Title: '\n",
    "    Documents: {delimiter}{documents}{delimiter}\n",
    "    \"\"\"\n",
    "\n",
    "    # response from openai\n",
    "    llm_output = get_reponse(prompt)\n",
    "    cluster_dict[i][\"topic\"] = llm_output"
   ]
  },
  {
   "cell_type": "markdown",
   "id": "76a5d620-1b59-40e3-a20f-95b73fee0755",
   "metadata": {},
   "source": [
    "## Testing the result"
   ]
  },
  {
   "cell_type": "code",
   "execution_count": 47,
   "id": "00693862-1a82-4168-a94f-1853299c68c7",
   "metadata": {},
   "outputs": [
    {
     "name": "stdout",
     "output_type": "stream",
     "text": [
      "Title: Australian dominance in cricket\n",
      "\n",
      "\n",
      "0. Langer leads the Australian charge Justin Langer #39;s coruscating unbeaten 181 shone through on an enthralling day of Test cricket when Australia demonstrated, once again, why they are by far the best side in the world. \n",
      "\n",
      "1. Zimbabwe do England a favour Zimbabwe have been English cricket #39;s bte noir over the past year but here yesterday, they did them a huge favour in the Champions Trophy, despite losing to Sri Lanka by four  \n",
      "\n",
      "2. TV war puts tour of India in doubt Australian cricket chiefs fear a battle over television rights could cause next month #39;s Test series in India to be cancelled, and last night were seeking clarification from Indian board president  \n",
      "\n",
      "3. UPDATE 1-Australia survive NZ flurry to square series Australia withstood a late flurry of exciting strokeplay from pace bowler Kyle Mills to beat New Zealand by 17 runs in Wednesday #39;s second limited-overs international to square their best-of-three series at 1-1. \n",
      "\n",
      "4. CRICKET: Kaspa has selectors in a bind MICHAEL Kasprowicz has put national selectors into a difficult situation with a five-wicket burst that has enhanced Australia #39;s hopes of snatching a maiden Champions Trophy in London this month. \n",
      "\n",
      "5. England labour but find their second wind This was not an easy day on which to play cricket. The sun shone brilliantly enough but for all of the opening day of the series a buffeting westerly crosswind flapped the trouser legs of the players, put  \n",
      "\n",
      "6. Mini World Cup heats up With the four minnows out of contention, the eight title contenders chase semifinal places in One-Day crickets mini World Cup with Australia first to get there by beating New Zealand by seven wickets yesterday in the first group showdown at the  \n",
      "\n",
      "7. Tendulkar not giving up on first Test India #39;s star batsman Sachin Tendulkar says he may be fit for next week #39;s first Test against Australia, after revealing the tennis elbow injury was showing  quot;tremendous improvement. \n",
      "\n",
      "8. Warne ends India #39;s teen resistance India posted 199/7 and trail Australia by 275 runs at lunch on the third day of the first Test at Bangalore. India #39;s two teenagers Pathiv Patel and Irfan Pathan, who resumed on 18 and one respectively, fought  \n",
      "\n",
      "9. Aussies ponder pace quartet AUSTRALIA could again use a four-strong pace attack in tomorrow #39;s Champions Trophy semifinal as it bids to stretch its winning streak against England in one-day internationals to 15 matches. \n",
      "\n"
     ]
    }
   ],
   "source": [
    "idx = 7\n",
    "\n",
    "print(cluster_dict[idx][\"topic\"])\n",
    "print(\"\\n\")\n",
    "for i, d in enumerate(cluster_dict[idx][\"doc\"]):\n",
    "    print(f\"{i}. {d} \\n\")"
   ]
  },
  {
   "cell_type": "code",
   "execution_count": null,
   "id": "f6e12164-3dc8-4903-a43e-8698a1fea98e",
   "metadata": {},
   "outputs": [],
   "source": []
  }
 ],
 "metadata": {
  "kernelspec": {
   "display_name": "Python 3 (ipykernel)",
   "language": "python",
   "name": "python3"
  },
  "language_info": {
   "codemirror_mode": {
    "name": "ipython",
    "version": 3
   },
   "file_extension": ".py",
   "mimetype": "text/x-python",
   "name": "python",
   "nbconvert_exporter": "python",
   "pygments_lexer": "ipython3",
   "version": "3.9.12"
  }
 },
 "nbformat": 4,
 "nbformat_minor": 5
}
